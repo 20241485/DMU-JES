{
 "cells": [
  {
   "cell_type": "markdown",
   "metadata": {},
   "source": [
    "## 4주차 - 변수 & 자료형"
   ]
  },
  {
   "cell_type": "code",
   "execution_count": 1,
   "metadata": {},
   "outputs": [
    {
     "name": "stdout",
     "output_type": "stream",
     "text": [
      "12345\n"
     ]
    }
   ],
   "source": [
    "a = 12345\n",
    "print(a)"
   ]
  },
  {
   "cell_type": "code",
   "execution_count": null,
   "metadata": {},
   "outputs": [],
   "source": [
    "a = 50000*2\n",
    "print(a)"
   ]
  },
  {
   "cell_type": "code",
   "execution_count": null,
   "metadata": {},
   "outputs": [],
   "source": [
    "a / 5"
   ]
  },
  {
   "cell_type": "code",
   "execution_count": null,
   "metadata": {},
   "outputs": [],
   "source": [
    "student1 = [10, 20, 30]\n",
    "student2 = [40, 50, 60]\n",
    "student3 = [70, 80, 90]\n",
    "\n",
    "students = [[student1, student2], student3]\n",
    "\n",
    "print(students)\n",
    "print(students[0][1][0])\n",
    "\n",
    "sum_students = student1 + student2 + student3\n",
    "print(sum_students)\n",
    "\n",
    "print(sum_students[2:len(sum_students):])\n",
    "\n",
    "print(10 in sum_students)"
   ]
  },
  {
   "cell_type": "code",
   "execution_count": null,
   "metadata": {},
   "outputs": [],
   "source": [
    "a = {1, 2, 3, 4 ,5, 6}\n",
    "b = {4, 5, 6, 7, 8, 9}\n",
    "\n",
    "# a | b 합집합\n",
    "print(a.union(b))\n",
    "# a - b 차집합\n",
    "print(a.difference(b))\n",
    "# a & b 교집합\n",
    "print(a.intersection(b))"
   ]
  },
  {
   "cell_type": "code",
   "execution_count": null,
   "metadata": {},
   "outputs": [],
   "source": [
    "li = [1, 2, 2, 3, 3, 3, 4, 5, 6, 6, 6, 7, 8, 9, 9]\n",
    "print(li)\n",
    "\n",
    "li_tuple = tuple(li)\n",
    "print(li_tuple)\n",
    "\n",
    "li_set = set(li)\n",
    "print(li_set)\n",
    "\n",
    "li_list = list(li_set)\n",
    "print(li_list)"
   ]
  },
  {
   "cell_type": "markdown",
   "metadata": {},
   "source": [
    "## 5주차 - 변수 & 자료형"
   ]
  },
  {
   "cell_type": "code",
   "execution_count": null,
   "metadata": {},
   "outputs": [],
   "source": [
    "dict1 = {\n",
    "    'key1':'value1', 'key2':'value2', 'key3':'value3', 'key4':'value4', 'key5':'value5'\n",
    "}\n",
    "\n",
    "print(dict1['key1'])\n",
    "\n",
    "dict1['key1'] = 'value3'\n",
    "\n",
    "print(dict1['key1'])\n",
    "\n",
    "print('key1' in dict1)\n",
    "print('key6' in dict1)\n"
   ]
  },
  {
   "cell_type": "code",
   "execution_count": null,
   "metadata": {},
   "outputs": [],
   "source": [
    "keys = list(dict1.keys())\n",
    "\n",
    "print(keys)\n",
    "print(keys[0])"
   ]
  },
  {
   "cell_type": "code",
   "execution_count": null,
   "metadata": {},
   "outputs": [],
   "source": [
    "x = 90\n",
    "\n",
    "if x >= 70:\n",
    "    print('70 high')\n",
    "else:\n",
    "    print('70 low')"
   ]
  },
  {
   "cell_type": "code",
   "execution_count": 5,
   "metadata": {},
   "outputs": [
    {
     "name": "stdout",
     "output_type": "stream",
     "text": [
      "0 2\n",
      "1 3\n",
      "2 4\n",
      "3 5\n",
      "4 6\n",
      "5 7\n",
      "3\n",
      "['kim', '010-0000-0000', 'A']\n",
      "3\n",
      "['cho', '101-1111-1111', 'A+']\n"
     ]
    }
   ],
   "source": [
    "for a in [0,1,2,3,4,5]:\n",
    "    print(a, a+2)\n",
    "\n",
    "freshman = [['kim','010-0000-0000','A'],['cho','101-1111-1111','A+']]\n",
    "\n",
    "for college in freshman:\n",
    "    print(len(college))\n",
    "    print(college)"
   ]
  },
  {
   "cell_type": "markdown",
   "metadata": {},
   "source": [
    "# 6장 lambda"
   ]
  },
  {
   "cell_type": "code",
   "execution_count": 1,
   "metadata": {},
   "outputs": [
    {
     "data": {
      "text/plain": [
       "9"
      ]
     },
     "execution_count": 1,
     "metadata": {},
     "output_type": "execute_result"
    }
   ],
   "source": [
    "square = lambda x : x ** 2\n",
    "\n",
    "square(3)"
   ]
  },
  {
   "cell_type": "code",
   "execution_count": 3,
   "metadata": {},
   "outputs": [
    {
     "data": {
      "text/plain": [
       "25"
      ]
     },
     "execution_count": 3,
     "metadata": {},
     "output_type": "execute_result"
    }
   ],
   "source": [
    "sum(range(1, 10, 2))"
   ]
  },
  {
   "cell_type": "code",
   "execution_count": 14,
   "metadata": {},
   "outputs": [
    {
     "name": "stdout",
     "output_type": "stream",
     "text": [
      "['ㄱ', 'ㅏ', 'ㄱ', 'ㅑ', 'ㄱ', 'ㅓ', 'ㄴ', 'ㅏ', 'ㄴ', 'ㅑ', 'ㄴ', 'ㅓ', 'ㄷ', 'ㅏ', 'ㄷ', 'ㅑ', 'ㄷ', 'ㅓ']\n",
      "ㄱㅏㄱㅑㄱㅓㄴㅏㄴㅑㄴㅓㄷㅏㄷㅑㄷㅓ\n",
      "18\n"
     ]
    }
   ],
   "source": [
    "han1 = ['ㄱ','ㄴ','ㄷ']\n",
    "han2 = ['ㅏ', 'ㅑ', 'ㅓ']\n",
    "\n",
    "han_list = []\n",
    "\n",
    "for i in range(len(han1)):\n",
    "    h1 = han1[i]\n",
    "\n",
    "    for j in range(len(han2)):\n",
    "        h2 = han2[j]\n",
    "        han_list.append(h1)\n",
    "        han_list.append(h2)\n",
    "    \n",
    "h = ''.join(han_list)\n",
    "\n",
    "print(han_list)\n",
    "print(h)\n",
    "print(len(h))\n"
   ]
  },
  {
   "cell_type": "markdown",
   "metadata": {},
   "source": [
    "# 클래스"
   ]
  },
  {
   "cell_type": "code",
   "execution_count": 37,
   "metadata": {},
   "outputs": [],
   "source": [
    "class Bicycle():\n",
    "    def __init__(self, wheel_size = 20, color = 'black'):\n",
    "        self.wheel_size = wheel_size\n",
    "        self.color = color\n",
    "\n",
    "    def move(self, speed):\n",
    "        print(f'자전거 시속 {speed}')\n",
    "\n",
    "    def turn(self, direction):\n",
    "        print(f'자전거 회전 {direction}')\n",
    "\n",
    "    def stop(self):\n",
    "        print(f'자전거 {self.wheel_size} , {self.color} 정지')\n",
    "    \n"
   ]
  },
  {
   "cell_type": "code",
   "execution_count": 38,
   "metadata": {},
   "outputs": [
    {
     "name": "stdout",
     "output_type": "stream",
     "text": [
      "<__main__.Bicycle object at 0x73eab77693f0>\n",
      "20\n",
      "black\n",
      "자전거 시속 5\n",
      "자전거 회전 3\n",
      "자전거 20 , black 정지\n"
     ]
    }
   ],
   "source": [
    "# <__main__.Bicycle at 0x73eab77b8a30> main 안에 있는 Bicycle at 메모리 저장위치\n",
    "\n",
    "#my_bicycle = Bicycle(26 , 'black')\n",
    "my_bicycle = Bicycle()\n",
    "print(my_bicycle)\n",
    "\n",
    "#print(my_bicycle.wheel_size)\n",
    "#print(my_bicycle.color)\n",
    "\n",
    "#my_bicycle.wheel_size = 26\n",
    "#my_bicycle.color = 'black'\n",
    "\n",
    "print(my_bicycle.wheel_size)\n",
    "print(my_bicycle.color)\n",
    "\n",
    "my_bicycle.move(5)\n",
    "my_bicycle.turn(3)\n",
    "my_bicycle.stop()"
   ]
  },
  {
   "cell_type": "code",
   "execution_count": null,
   "metadata": {},
   "outputs": [],
   "source": []
  }
 ],
 "metadata": {
  "kernelspec": {
   "display_name": "Python 3",
   "language": "python",
   "name": "python3"
  },
  "language_info": {
   "codemirror_mode": {
    "name": "ipython",
    "version": 3
   },
   "file_extension": ".py",
   "mimetype": "text/x-python",
   "name": "python",
   "nbconvert_exporter": "python",
   "pygments_lexer": "ipython3",
   "version": "3.10.13"
  }
 },
 "nbformat": 4,
 "nbformat_minor": 2
}
