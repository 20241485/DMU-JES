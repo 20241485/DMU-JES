{
 "cells": [
  {
   "cell_type": "markdown",
   "metadata": {},
   "source": [
    "# <b> QC반 20232678 조은성\n",
    "\n",
    "github - https://github.com/EunSeong-Jo/DMU.git"
   ]
  },
  {
   "cell_type": "markdown",
   "metadata": {},
   "source": [
    "# 4장 본문 코딩"
   ]
  },
  {
   "cell_type": "code",
   "execution_count": 1,
   "metadata": {},
   "outputs": [
    {
     "name": "stdout",
     "output_type": "stream",
     "text": [
      "축하합니다! 장학금 지급 대상자입니다.\n",
      "당신의 1학기 평균 평점은 4.10이다.\n"
     ]
    }
   ],
   "source": [
    "# 4-2 코딩 20232678 조은성\n",
    "# 평균 평점 3.8 이상이면 장학금 지급 대상자\n",
    "\n",
    "grade = float(input('1학기 평균 평점은?'))\n",
    "\n",
    "if grade >= 3.8:\n",
    "    print('축하합니다! 장학금 지급 대상자입니다.')\n",
    "\n",
    "print('당신의 1학기 평균 평점은 %.2f이다.' % grade)"
   ]
  },
  {
   "cell_type": "code",
   "execution_count": 2,
   "metadata": {},
   "outputs": [
    {
     "name": "stdout",
     "output_type": "stream",
     "text": [
      "11은 홀수다\n"
     ]
    }
   ],
   "source": [
    "# 4-4 코딩 20232678 조은성\n",
    "# 정수의 홀수와 짝수 판정\n",
    "n = int(input('정수 입력 >> '))\n",
    "\n",
    "if n % 2 == 0:\n",
    "    print('%d은 짝수다' % n)\n",
    "else:\n",
    "    print('%d은 홀수다' % n)"
   ]
  },
  {
   "cell_type": "code",
   "execution_count": 3,
   "metadata": {},
   "outputs": [
    {
     "name": "stdout",
     "output_type": "stream",
     "text": [
      "원하는 음료는? 1.커피 2.주스 1\n",
      "번호 선택? 1.아메리카노 2.카페라테 3.카푸치노 2\n",
      "2.카페라테 선택\n"
     ]
    }
   ],
   "source": [
    "# 4-6 코딩 20232678 조은성\n",
    "# 커피와 주스 선택 이후 메뉴 선택\n",
    "category = int(input('원하는 음료는? 1.커피 2.주스'))\n",
    "print(f'원하는 음료는? 1.커피 2.주스 {category}')\n",
    "\n",
    "if category == 1:\n",
    "    \n",
    "    menu = int(input('번호 선택? 1.아메리카노 2.카페라테 3.카푸치노'))\n",
    "    print(f'번호 선택? 1.아메리카노 2.카페라테 3.카푸치노 {menu}')\n",
    "\n",
    "    if menu == 1:\n",
    "        print('1.아메리카노 선택')\n",
    "    elif menu == 2:\n",
    "        print('2.카페라테 선택')\n",
    "    elif menu == 3:\n",
    "        print('3.카푸치노 선택')\n",
    "else:\n",
    "    \n",
    "    menu = int(input('번호 선택? 1.키위주스 2.토마토주스 3.오렌지주스'))\n",
    "    print(f'번호 선택? 1.키위주스 2.토마토주스 3.오렌지주스 {menu}')\n",
    "\n",
    "    if menu == 1:\n",
    "        print('1.키위주스 선택')\n",
    "    elif menu == 2:\n",
    "        print('2.토마토주스 선택')\n",
    "    elif menu == 3:\n",
    "        print('3.오렌지주스 선택')"
   ]
  },
  {
   "cell_type": "code",
   "execution_count": 6,
   "metadata": {},
   "outputs": [
    {
     "name": "stdout",
     "output_type": "stream",
     "text": [
      "주문하세요! [아메리카노] [카페라테] [카푸치노] >> 아메리카노\n",
      "아메리카노 주문\n",
      "주문하세요! [아메리카노] [카페라테] [카푸치노] >> 카푸라테\n",
      "모르겠어요\n",
      "주문하세요! [아메리카노] [카페라테] [카푸치노] >> 카페라테\n",
      "카페라테 주문\n",
      "주문을 마치겠습니다.\n"
     ]
    }
   ],
   "source": [
    "# 4-8 코딩 20232678 조은성\n",
    "# 3회에 걸쳐 커피 주문받기\n",
    "for i in range(3):\n",
    "    coffee = input('주문하세요! [아메리카노] [카페라테] [카푸치노] >> ')\n",
    "    print(f'주문하세요! [아메리카노] [카페라테] [카푸치노] >> {coffee}')\n",
    "    \n",
    "    if coffee == '아메리카노':\n",
    "        print('%s 주문' % coffee)\n",
    "    elif coffee == '카페라테':\n",
    "        print('%s 주문' % coffee)\n",
    "    elif coffee == '카푸치노':\n",
    "        print('%s 주문' % coffee)\n",
    "    else:\n",
    "        print('모르겠어요')\n",
    "else:\n",
    "    print('주문을 마치겠습니다.')        "
   ]
  },
  {
   "cell_type": "code",
   "execution_count": 9,
   "metadata": {},
   "outputs": [
    {
     "name": "stdout",
     "output_type": "stream",
     "text": [
      "키는 ? 125\n",
      "들어가세요. 1명\n",
      "키는 ? 129\n",
      "들어가세요. 2명\n",
      "키는 ? 131\n",
      "허용 범위를 넘었습니다.\n",
      "키는 ? 110\n",
      "들어가세요. 3명\n",
      "키는 ? 105\n",
      "들어가세요. 4명\n",
      "4명 모두 찼습니다. 다음에 이용하세요\n"
     ]
    }
   ],
   "source": [
    "# 4-10 코딩 20232678 조은성\n",
    "# 어린이를 위한 놀이 기구 탑승 검사\n",
    "MAXNUM = 4\n",
    "MAXHEIGHT = 130\n",
    "\n",
    "more = True\n",
    "cnt = 0\n",
    "\n",
    "while more:\n",
    "    height = int(input('키는 ? '))\n",
    "    print(f'키는 ? {height}')\n",
    "\n",
    "    if height < MAXHEIGHT:\n",
    "        cnt += 1\n",
    "        print('들어가세요.', '%d명' % cnt)\n",
    "    else:\n",
    "        print('허용 범위를 넘었습니다.')\n",
    "    if cnt == MAXNUM:\n",
    "        more = False\n",
    "else:\n",
    "    print('%d명 모두 찼습니다. 다음에 이용하세요' % cnt)"
   ]
  },
  {
   "cell_type": "code",
   "execution_count": 10,
   "metadata": {},
   "outputs": [
    {
     "name": "stdout",
     "output_type": "stream",
     "text": [
      "2 * 1 =  2  2 * 2 =  4  2 * 3 =  6  2 * 4 =  8  2 * 5 = 10  2 * 6 = 12  2 * 7 = 14  2 * 8 = 16  2 * 9 = 18  \n",
      "3 * 1 =  3  3 * 2 =  6  3 * 3 =  9  3 * 4 = 12  3 * 5 = 15  3 * 6 = 18  3 * 7 = 21  3 * 8 = 24  3 * 9 = 27  \n",
      "4 * 1 =  4  4 * 2 =  8  4 * 3 = 12  4 * 4 = 16  4 * 5 = 20  4 * 6 = 24  4 * 7 = 28  4 * 8 = 32  4 * 9 = 36  \n",
      "5 * 1 =  5  5 * 2 = 10  5 * 3 = 15  5 * 4 = 20  5 * 5 = 25  5 * 6 = 30  5 * 7 = 35  5 * 8 = 40  5 * 9 = 45  \n",
      "6 * 1 =  6  6 * 2 = 12  6 * 3 = 18  6 * 4 = 24  6 * 5 = 30  6 * 6 = 36  6 * 7 = 42  6 * 8 = 48  6 * 9 = 54  \n",
      "7 * 1 =  7  7 * 2 = 14  7 * 3 = 21  7 * 4 = 28  7 * 5 = 35  7 * 6 = 42  7 * 7 = 49  7 * 8 = 56  7 * 9 = 63  \n",
      "8 * 1 =  8  8 * 2 = 16  8 * 3 = 24  8 * 4 = 32  8 * 5 = 40  8 * 6 = 48  8 * 7 = 56  8 * 8 = 64  8 * 9 = 72  \n",
      "9 * 1 =  9  9 * 2 = 18  9 * 3 = 27  9 * 4 = 36  9 * 5 = 45  9 * 6 = 54  9 * 7 = 63  9 * 8 = 72  9 * 9 = 81  \n"
     ]
    }
   ],
   "source": [
    "# 4-12 코딩 20232678 조은성\n",
    "# 전형적인 구구단 출력\n",
    "for i in range(2, 10):\n",
    "    for j in range(1, 10):\n",
    "        print('%d * %d = %2d' % (i, j, i*j), end = '  ')\n",
    "    print()"
   ]
  },
  {
   "cell_type": "code",
   "execution_count": 11,
   "metadata": {},
   "outputs": [
    {
     "name": "stdout",
     "output_type": "stream",
     "text": [
      "1\n",
      "1\n",
      "0\n",
      "종료\n"
     ]
    }
   ],
   "source": [
    "# 4-14 코딩 20232678 조은성\n",
    "# 1을 입력하면 계속하고 0을 입력하면 반복 종료\n",
    "while True:\n",
    "    menu = input('[0]종료 [1]계속 ? ')\n",
    "    print(menu)\n",
    "    if menu == '0':\n",
    "        break\n",
    "print('종료')"
   ]
  },
  {
   "cell_type": "code",
   "execution_count": 12,
   "metadata": {},
   "outputs": [
    {
     "name": "stdout",
     "output_type": "stream",
     "text": [
      "잘못 입력했어요!\n",
      "잘못 입력했어요!\n",
      "입력 : monday, 철자가 맞습니다.\n",
      "*******종료*******\n"
     ]
    }
   ],
   "source": [
    "# 4-16 코딩 20232678 조은성\n",
    "# 월, 화, 수 중 영어 철자 하나 검사\n",
    "days = ['monday', 'tuesday', 'wednesday']\n",
    "\n",
    "while True:\n",
    "    user = input('월, 화, 수 중 하나의 영단어 입력 >> ')\n",
    "    if user not in days:\n",
    "        print('잘못 입력했어요!')\n",
    "        continue\n",
    "    print('입력 : %s, 철자가 맞습니다.' % user)\n",
    "    break\n",
    "\n",
    "print('종료'.center(16, '*'))"
   ]
  },
  {
   "cell_type": "markdown",
   "metadata": {},
   "source": [
    "# 4장 도전! 프로그래밍"
   ]
  },
  {
   "cell_type": "code",
   "execution_count": 14,
   "metadata": {},
   "outputs": [
    {
     "name": "stdout",
     "output_type": "stream",
     "text": [
      "근로시간 49시간, 주급 648000\n",
      "근로시간 38시간, 주급 456000\n",
      "근로시간 41시간, 주급 504000\n",
      "근로시간 44시간, 주급 558000\n",
      "근로시간 39시간, 주급 468000\n"
     ]
    }
   ],
   "source": [
    "# 02 코딩 20232678 조은성\n",
    "# 근로 시급이 12,000원이고, 일주일에 40시간 이상 근무하면 시금의 1.5배\n",
    "# 일주일 근로 시간을 35~50시간 사이에서 임의의 난수로 정하고, 주급을 계산해 출력\n",
    "import random\n",
    "\n",
    "# 시급\n",
    "pay = 12000\n",
    "\n",
    "# 반복 5회 출력\n",
    "for i in range(5):\n",
    "    # 35 ~ 50시간 사이 근무시간\n",
    "    work_time = random.randrange(35, 51)\n",
    "    # 주급\n",
    "    week_pay = pay * work_time\n",
    "\n",
    "    # 40시간 이상 근무한 시간 계산\n",
    "    over_time = work_time - 39\n",
    "    # 40시간 이상 근무한 시간당 추가된 금액 계산\n",
    "    over_pay = over_time * (pay * 0.5)\n",
    "    # 초과근무 수당을 주급에 더해 최종 주급 산출\n",
    "    over_week_pay = int(over_pay) + week_pay\n",
    "\n",
    "    # 35 ~ 50시간 중 근무했는지 확인\n",
    "    if 50 >= work_time >= 35:\n",
    "\n",
    "        # 40시간 이상 근무했으면 초과근무 수당을 더한 주급을 출력\n",
    "        if over_time >= 1:\n",
    "            print(f'근로시간 {work_time}시간, 주급 {over_week_pay}')\n",
    "        # 40시간 미만 근무했으면 추가수당이 없는 주급을 출력\n",
    "        else:    \n",
    "            print(f'근로시간 {work_time}시간, 주급 {week_pay}')\n",
    "\n",
    "    else:\n",
    "        print('근로시간이 35 ~ 50시간 범위를 벗어났습니다.')"
   ]
  },
  {
   "cell_type": "code",
   "execution_count": 15,
   "metadata": {},
   "outputs": [
    {
     "name": "stdout",
     "output_type": "stream",
     "text": [
      "당신의 키(cm)와 몸무게(kg)는? >> 171 72\n",
      "키 : 171(cm), 몸무게 : 72(kg)\n",
      "BMI 24.6 정상\n"
     ]
    }
   ],
   "source": [
    "# 04 코딩 20232678 조은성\n",
    "# 인간의 비만도를 측정하는 체질량 지수를 계산해 판정 결과를 출력\n",
    "\n",
    "h, w = input('당신의 키(cm)와 몸무게(kg)는? >> ').split()\n",
    "print(f'당신의 키(cm)와 몸무게(kg)는? >> {h} {w}')\n",
    "print(f'키 : {h}(cm), 몸무게 : {w}(kg)')\n",
    "\n",
    "# round를 사용하여 소수점 한자리 아래를 반올림\n",
    "bmi = round(float(w) / (float(h) / 100)**2, 1)\n",
    "print(f'BMI {bmi}', end = ' ')\n",
    "\n",
    "# bmi 판정표에 따른 분류\n",
    "if bmi >= 40:\n",
    "    print('고도 비만')\n",
    "elif 39.9 > bmi >= 35:\n",
    "    print('중등도 비만')\n",
    "elif 34.9 > bmi >= 30:\n",
    "    print('비만')\n",
    "elif 29.9 > bmi >= 25:\n",
    "    print('과체중')\n",
    "elif 24.9 > bmi >= 18.5:\n",
    "    print('정상')\n",
    "else:\n",
    "    print('저체중')"
   ]
  },
  {
   "cell_type": "code",
   "execution_count": 16,
   "metadata": {},
   "outputs": [
    {
     "name": "stdout",
     "output_type": "stream",
     "text": [
      "68 * 46 = 3128\n",
      "계속 y / n ?  y\n",
      "78 * 3 = 234\n",
      "계속 y / n ?  y\n",
      "30 * 66 = 1980\n",
      "계속 y / n ?  n\n"
     ]
    }
   ],
   "source": [
    "# 06 코딩 20232678 조은성\n",
    "# 1에서 99까지 정수인 난수를 2개 생성하고 곱하기의 결과를 출력\n",
    "import random\n",
    "\n",
    "while True:\n",
    "    randnum1 = random.randrange(1, 100)\n",
    "    randnum2 = random.randrange(1, 100)\n",
    "\n",
    "    print(f'{randnum1} * {randnum2} = {randnum1 * randnum2}')\n",
    "    \n",
    "    choose = input('계속 y / n ? ')\n",
    "    if choose == 'n':\n",
    "        print('계속 y / n ? ', choose)\n",
    "        break\n",
    "    else:\n",
    "        print('계속 y / n ? ', choose)"
   ]
  },
  {
   "cell_type": "code",
   "execution_count": 69,
   "metadata": {},
   "outputs": [
    {
     "name": "stdout",
     "output_type": "stream",
     "text": [
      "첫 값은 71 이다.\n",
      "산술 연산자(+, -, *, /, %)의 종류를 입력하시오. >> *\n",
      "두번째 피연산자를 입력하세요. >> 20\n",
      "71 * 20 = 1420\n",
      "\n",
      "산술 연산자(+, -, *, /, %)의 종류를 입력하시오. >> -\n",
      "두번째 피연산자를 입력하세요. >> 45\n",
      "71 - 45 = 26\n",
      "\n",
      "산술 연산자(+, -, *, /, %)의 종류를 입력하시오. >> /\n",
      "두번째 피연산자를 입력하세요. >> 5\n",
      "71 / 5 = 14.2\n",
      "\n",
      "산술 연산자(+, -, *, /, %)의 종류를 입력하시오. >> &\n",
      "*********종료*********\n"
     ]
    }
   ],
   "source": [
    "# 08 코딩 20232678 조은성\n",
    "# 난수로 발생시킨 1에서 100사이의 첫 번째 피연산자와 사용자가 표준 입력한 연산자, 문자 그리고 표준 입력한 두번째 피연산자를 계산해 출력\n",
    "import random\n",
    "import operator\n",
    "\n",
    "# operator를 사용하여 각 부호별 계산을 정의\n",
    "ops = {'+' : operator.add, \n",
    "       '-' : operator.sub, \n",
    "       '*' : operator.mul, \n",
    "       '/' : operator.truediv,\n",
    "       '%' : operator.mod\n",
    "}\n",
    "\n",
    "# 1 ~ 100까지의 난수를 생성\n",
    "num1 = random.randrange(1, 101)\n",
    "print(f'첫 값은 {num1} 이다.')\n",
    "\n",
    "while True:\n",
    "\n",
    "    Operator = input('산술 연산자(+, -, *, /, %)의 종류를 입력하시오. >> ')\n",
    "    print(f'산술 연산자(+, -, *, /, %)의 종류를 입력하시오. >> {Operator}')\n",
    "\n",
    "    # 산술 연산자의 종류가 해당 리스트에 없으면 반복을 종료\n",
    "    if Operator not in ['+', '-', '*', '/', '%']:\n",
    "        print('종료'.center(20, '*'))\n",
    "        break\n",
    "    \n",
    "    num2 = int(input('두번째 피연산자를 입력하세요. >> '))\n",
    "    print(f'두번째 피연산자를 입력하세요. >> {num2}')\n",
    "\n",
    "    # 계산식\n",
    "    print(f'{num1} {Operator} {num2} = {ops[Operator](num1, num2)}\\n')\n"
   ]
  },
  {
   "cell_type": "markdown",
   "metadata": {},
   "source": [
    "# 5장 본문 코딩"
   ]
  },
  {
   "cell_type": "code",
   "execution_count": 17,
   "metadata": {},
   "outputs": [
    {
     "name": "stdout",
     "output_type": "stream",
     "text": [
      "=============================================\n",
      "    COFFEE         BEVERAGE           ADE       \n",
      "=============================================\n",
      "  에스프레소   \n",
      "  아메리카노   \n",
      "   카페라테   \n",
      "   카페모카   \n"
     ]
    }
   ],
   "source": [
    "# 5-2 코딩 20232678 조은성\n",
    "# 간단한 커피 메뉴 만들기\n",
    "menu = ['COFFEE', 'BEVERAGE', 'ADE']\n",
    "coffee = ['에스프레소', '아메리카노', '카페라테', '카페모카']\n",
    "\n",
    "print('=' * 45)\n",
    "\n",
    "for category in menu:\n",
    "    print('{:^15s}'.format(category), end = ' ')\n",
    "print()\n",
    "print('=' * 45)\n",
    "\n",
    "for ckind in coffee:\n",
    "    print('{:^10s}'.format(ckind))"
   ]
  },
  {
   "cell_type": "code",
   "execution_count": 18,
   "metadata": {},
   "outputs": [
    {
     "name": "stdout",
     "output_type": "stream",
     "text": [
      "C\n",
      "Python\n",
      "\n",
      "C\n",
      "C++\n",
      "Python\n",
      "Java\n"
     ]
    }
   ],
   "source": [
    "# 5-4 코딩 20232678 조은성\n",
    "# 프로그래밍 언어 리스트에서 첨자로 항목 참조\n",
    "pl = ['C', 'C++', 'Python', 'Java']\n",
    "print(pl[0])\n",
    "print(pl[2])\n",
    "print()\n",
    "\n",
    "for i in range(len(pl)):\n",
    "    print(pl[i])"
   ]
  },
  {
   "cell_type": "code",
   "execution_count": 19,
   "metadata": {},
   "outputs": [
    {
     "name": "stdout",
     "output_type": "stream",
     "text": [
      "['짜장면', '짬뽕', '우동', '울면']\n",
      "['짜장면', '짬뽕', '우동', '울면', '탕수육']\n",
      "['짜장면', '굴짬뽕', '우동', '울면', '탕수육']\n",
      "['짜장면', '굴짬뽕', '물만두', '울면', '탕수육']\n"
     ]
    }
   ],
   "source": [
    "# 5-6 코딩 20232678 조은성\n",
    "# 중국집에서 음식 주문하기\n",
    "food = ['짜장면', '짬뽕', '우동', '울면']\n",
    "print(food)\n",
    "\n",
    "food.append('탕수육')\n",
    "print(food)\n",
    "\n",
    "food[1] = '굴짬뽕'\n",
    "print(food)\n",
    "\n",
    "food[food.index('우동')] = '물만두'\n",
    "print(food)"
   ]
  },
  {
   "cell_type": "code",
   "execution_count": 20,
   "metadata": {},
   "outputs": [
    {
     "name": "stdout",
     "output_type": "stream",
     "text": [
      "wlist[:] ['밥', '삶', '길', '죽', '꿈', '차', '떡', '복', '말']\n",
      "wlist[::] ['밥', '삶', '길', '죽', '꿈', '차', '떡', '복', '말']\n",
      "wlist[::-1] ['말', '복', '떡', '차', '꿈', '죽', '길', '삶', '밥']\n",
      "['밥', '죽', '떡']\n",
      "['삶', '꿈', '복']\n",
      "['길', '차', '말']\n",
      "['말', '떡', '꿈', '길', '밥']\n",
      "['말', '차', '길']\n",
      "['삶', '길', '죽', '꿈', '차', '떡', '복']\n",
      "['복', '꿈', '삶']\n"
     ]
    }
   ],
   "source": [
    "# 5-8 코딩 20232678 조은성\n",
    "# 한 글자의 한국 단어로 이해하는 리스트 슬라이싱\n",
    "wlist = ['밥', '삶', '길', '죽', '꿈', '차', '떡', '복', '말']\n",
    "print('wlist[:]', wlist[:])\n",
    "print('wlist[::]', wlist[::])\n",
    "print('wlist[::-1]', wlist[::-1])\n",
    "\n",
    "print(wlist[::3])\n",
    "print(wlist[1::3])\n",
    "print(wlist[2::3])\n",
    "\n",
    "print(wlist[::-2])\n",
    "print(wlist[-1:-8:-3])\n",
    "\n",
    "print(wlist[1:-1:])\n",
    "print(wlist[-2:-9:-3])"
   ]
  },
  {
   "cell_type": "code",
   "execution_count": 21,
   "metadata": {},
   "outputs": [
    {
     "name": "stdout",
     "output_type": "stream",
     "text": [
      "['삶', '꿈', '정', '복', '빛']\n",
      "['꿈', '복', '빛', '삶', '정']\n",
      "['복숭아', '자두', '골드키위', '귤']\n",
      "['자두', '복숭아', '귤', '골드키위']\n",
      "['골드키위', '귤', '꿈', '복', '복숭아', '빛', '삶', '자두', '정']\n",
      "['정', '자두', '삶', '빛', '복숭아', '복', '꿈', '귤', '골드키위']\n"
     ]
    }
   ],
   "source": [
    "# 5-10 코딩 20232678 조은성\n",
    "# 한 글자 단어와 과일의 정렬\n",
    "word = list('삶꿈정')\n",
    "word.extend('복빛')\n",
    "print(word)\n",
    "word.sort()\n",
    "print(word)\n",
    "\n",
    "fruit = ['복숭아', '자두', '골드키위', '귤']\n",
    "print(fruit)\n",
    "fruit.sort(reverse=True)\n",
    "print(fruit)\n",
    "\n",
    "mix = word + fruit\n",
    "print(sorted(mix))\n",
    "print(sorted(mix, reverse=True))"
   ]
  },
  {
   "cell_type": "code",
   "execution_count": 22,
   "metadata": {},
   "outputs": [
    {
     "name": "stdout",
     "output_type": "stream",
     "text": [
      "('BTS', '볼빨간사춘기', 'BTS', '블랙핑크', '태연')\n",
      "('작은 것들을 위한 시', '나만, 봄', '소우주', 'Kill This Love', '사계')\n",
      "2\n",
      "1\n",
      "0\n",
      "\n",
      "BTS : 작은 것들을 위한 시\n",
      "볼빨간사춘기 : 나만, 봄\n",
      "BTS : 소우주\n",
      "블랙핑크 : Kill This Love\n",
      "태연 : 사계\n"
     ]
    }
   ],
   "source": [
    "# 5-12 코딩 20232678 조은성\n",
    "# K-pop 가수와 곡으로 구성된 튜플의 참조\n",
    "singer = ('BTS', '볼빨간사춘기', 'BTS', '블랙핑크', '태연')\n",
    "song = ('작은 것들을 위한 시', '나만, 봄', '소우주', 'Kill This Love', '사계')\n",
    "print(singer)\n",
    "print(song)\n",
    "\n",
    "print(singer.count('BTS'))\n",
    "print(singer.index('볼빨간사춘기'))\n",
    "print(singer.index('BTS'))\n",
    "print()\n",
    "\n",
    "for _ in range(len(singer)):\n",
    "    print('%s : %s' % (singer[_], song[_]))"
   ]
  },
  {
   "cell_type": "markdown",
   "metadata": {},
   "source": [
    "# 5장 도전! 프로그래밍"
   ]
  },
  {
   "cell_type": "code",
   "execution_count": 23,
   "metadata": {},
   "outputs": [
    {
     "name": "stdout",
     "output_type": "stream",
     "text": [
      "찾을 단어 입력 ? 초보자\n",
      "novice\n"
     ]
    }
   ],
   "source": [
    "# 02 코딩 20232678 조은성\n",
    "# 영한 사전과 같이 한글과 영어에 대응되는 튜플 'korean'과 'english'를 만든 후, 표준 입력으로 한글을 입력받아 영어를 출력\n",
    "\n",
    "ko = ('정렬', '초보자', '내포', '사전')\n",
    "en = ('sorting', 'novice', 'comprehension', 'dictionary')\n",
    "\n",
    "input_ko = input('찾을 단어 입력 ? ')\n",
    "print(f'찾을 단어 입력 ? {input_ko}')\n",
    "\n",
    "if input_ko in ko:\n",
    "    index_ko = ko.index(input_ko)\n",
    "    print(en[int(index_ko)])\n",
    "else:\n",
    "    print('단어가 사전에 없습니다.')"
   ]
  },
  {
   "cell_type": "code",
   "execution_count": 24,
   "metadata": {},
   "outputs": [
    {
     "name": "stdout",
     "output_type": "stream",
     "text": [
      "각 행의 합 : [6, 15, 24]\n",
      "각 열의 합 : [12, 15, 18]\n"
     ]
    }
   ],
   "source": [
    "# 04 코딩 20232678 조은성\n",
    "# 다음 중첩된 리스트 'data'에서 각 행의 합과 열의 합을 리스트 'rsum'과 'csum'에 저장해 출력\n",
    "\n",
    "data = [[1,2,3], [4,5,6], [7,8,9]]\n",
    "\n",
    "rsum = []\n",
    "csum = []\n",
    "\n",
    "for i in data[:][:]:\n",
    "    \n",
    "    sum_j = 0\n",
    "    rsum.append(sum(i))\n",
    "    \n",
    "    for j in i[:]:\n",
    "        \n",
    "        x = data[i.index(j)][data.index(i)]\n",
    "        sum_j += x\n",
    "    \n",
    "    csum.append(sum_j)\n",
    "\n",
    "print(f'각 행의 합 : {rsum}')    \n",
    "print(f'각 열의 합 : {csum}')\n"
   ]
  },
  {
   "cell_type": "code",
   "execution_count": 25,
   "metadata": {},
   "outputs": [
    {
     "name": "stdout",
     "output_type": "stream",
     "text": [
      "원 행렬 출력 : \n",
      "1 2 \n",
      "3 4 \n",
      "5 6 \n",
      "7 8 \n",
      "전치 행렬 출력 : \n",
      "1 3 5 7 \n",
      "2 4 6 8 \n"
     ]
    }
   ],
   "source": [
    "# 06 코딩 20232678 조은성\n",
    "# 중첩된 리스트를 for문으로 행과 열을 맞춰 항목을 출력한 후 다시 행과 열이 바뀐 형태를 for문으로 출력\n",
    "'''\n",
    "import numpy as np\n",
    "\n",
    "m = np.array([[1,2], [3,4], [5,6], [7,8]])\n",
    "\n",
    "print(f'원 행렬 출력 : \\n{m}')\n",
    "print(f'전치 행렬 출력 : \\n{m.T}')\n",
    "'''\n",
    "\n",
    "m = [[1,2], [3,4], [5,6], [7,8]]\n",
    "\n",
    "print('원 행렬 출력 : ')\n",
    "for i in m:\n",
    "    for j in i:\n",
    "        print(j, end=' ')\n",
    "    print()\n",
    "\n",
    "\n",
    "print('전치 행렬 출력 : ')\n",
    "total_length = len(m)\n",
    "sub_length = 2\n",
    "\n",
    "# 2차원 배열의 가장 긴 길이 2   (0,1)\n",
    "for x in range(sub_length):\n",
    "    # [1,2] [3,4] [5,6] [7,8] 의 0번째 인덱스 값을 출력한 뒤 줄바꿈, 그 다음은 1번째 인덱스 값을 출력\n",
    "    for y in m:\n",
    "        print(y[x], end = ' ')\n",
    "    print()\n"
   ]
  },
  {
   "cell_type": "code",
   "execution_count": 27,
   "metadata": {},
   "outputs": [
    {
     "name": "stdout",
     "output_type": "stream",
     "text": [
      "리스트 : [56, 42, 22, 28, 86, 1, 25, 42, 5, 8]\n",
      "튜플 : (56, 42, 22, 28, 86, 1, 25, 42, 5, 8)\n",
      "튜플 정렬된 리스트 : [1, 5, 8, 22, 25, 28, 42, 42, 56, 86]\n",
      "합 : 315, 항목수 : 10\n",
      "최대 : 86, 최소 : 1, 평균 : 31.50\n"
     ]
    }
   ],
   "source": [
    "# 08 코딩 20232678 조은성\n",
    "# 1에서 99까지의 난수 10개로 리스트를 만든 후 리스트를 튜플로 변환하고, 다음과 같이 정렬된 리스트와 합, 항목 수, 최대, 최소, 평균을 출력\n",
    "import random\n",
    "\n",
    "rand_list = []\n",
    "\n",
    "for i in range(10):\n",
    "    num = random.randrange(1,100)\n",
    "    rand_list.append(num)\n",
    "\n",
    "tup_list = tuple(rand_list)\n",
    "sort_list = sorted(tup_list)\n",
    "\n",
    "print(f'리스트 : {rand_list}')\n",
    "print(f'튜플 : {tup_list}')\n",
    "print(f'튜플 정렬된 리스트 : {sort_list}')\n",
    "\n",
    "print(f'합 : {sum(rand_list)}, 항목수 : {len(rand_list)}')\n",
    "print(f'최대 : {max(rand_list)}, 최소 : {min(rand_list)}, 평균 : {(sum(rand_list) / len(rand_list)):.2f}')"
   ]
  },
  {
   "cell_type": "markdown",
   "metadata": {},
   "source": [
    "# 6장 본문 코딩"
   ]
  },
  {
   "cell_type": "code",
   "execution_count": 28,
   "metadata": {},
   "outputs": [
    {
     "name": "stdout",
     "output_type": "stream",
     "text": [
      "{'강좌명': '파이썬 기초', '개설년도': [2020, 1], '학점시수': (3, 3), '교수': '김민국'}\n",
      "4\n",
      "\n",
      "[2020, 1] (3, 3)\n",
      "파이썬 기초 김민국\n"
     ]
    }
   ],
   "source": [
    "# 6-2 코딩 20232678 조은성\n",
    "# 강좌 정보로 구성된 딕셔너리 생성과 참조\n",
    "lect = dict()\n",
    "lect['강좌명'] = '파이썬 기초'\n",
    "lect['개설년도'] = [2020, 1]\n",
    "lect['학점시수'] = (3, 3)\n",
    "lect['교수'] = '김민국'\n",
    "print(lect)\n",
    "print(len(lect))\n",
    "print()\n",
    "\n",
    "print(lect['개설년도'], lect['학점시수'])\n",
    "print(lect['강좌명'], lect['교수'])\n"
   ]
  },
  {
   "cell_type": "code",
   "execution_count": 29,
   "metadata": {},
   "outputs": [
    {
     "name": "stdout",
     "output_type": "stream",
     "text": [
      "{1: 'January', 2: 'February', 3: 'March', 4: 'April', 5: 'May', 6: 'June', 7: 'July', 8: 'August', 9: 'September'}\n",
      "\n",
      "4 : April\n",
      "4 : April\n",
      "1 : January\n",
      "6 : June\n",
      "9 : September\n"
     ]
    }
   ],
   "source": [
    "# 6-4 코딩 20232678 조은성\n",
    "# 월 영어 단어 구성과 검색\n",
    "month = {1 : 'January', 2 : 'February', 3 : 'March', 4 : 'April'}\n",
    "month[5] = 'May'\n",
    "month[6] = 'June'\n",
    "month[7] = 'July'\n",
    "month[8] = 'August'\n",
    "month[9] = 'September'\n",
    "print(month)\n",
    "print()\n",
    "\n",
    "from random import randint\n",
    "\n",
    "for i in range(5):\n",
    "    r = randint(1, 9)\n",
    "    print('%d : %s' % (r, month[r]))"
   ]
  },
  {
   "cell_type": "code",
   "execution_count": 30,
   "metadata": {},
   "outputs": [
    {
     "name": "stdout",
     "output_type": "stream",
     "text": [
      "{'검은색': 'black', '흰색': 'white', '녹색': 'green', '파란색': 'blue'}\n",
      "green\n",
      "None\n",
      "\n",
      "{'검은색': 'black', '흰색': 'white', '녹색': 'green', '파란색': 'blue', '노란색': 'yellow'}\n",
      "\n",
      "삭제 : 흰색 white\n",
      "{'검은색': 'black', '녹색': 'green', '파란색': 'blue', '노란색': 'yellow'}\n",
      "삭제 : 빨간색 없어요\n",
      "임의 삭제 : ('노란색', 'yellow')\n",
      "임의 삭제 후: {'검은색': 'black', '녹색': 'green', '파란색': 'blue'}\n",
      "검은색 삭제 후 : {'녹색': 'green', '파란색': 'blue'}\n",
      "{}\n"
     ]
    }
   ],
   "source": [
    "# 6-6 코딩 20232678 조은성\n",
    "# 색상 사전의 조회와 삭제\n",
    "color = dict(검은색 = 'black' , 흰색 = 'white' , 녹색 = 'green' , 파란색 = 'blue')\n",
    "print(color)\n",
    "\n",
    "print(color.get('녹색'))\n",
    "print(color.get('노란색'))\n",
    "print()\n",
    "\n",
    "color['노란색'] = 'yellow'\n",
    "print(color)\n",
    "print()\n",
    "\n",
    "c = '흰색'\n",
    "print('삭제 : %s %s' % (c, color.pop('흰색')))\n",
    "print(color)\n",
    "c = '빨간색'\n",
    "print('삭제 : %s %s' % (c, color.pop(c, '없어요')))\n",
    "\n",
    "print('임의 삭제 : {}'.format(color.popitem()))\n",
    "print('임의 삭제 후: {}'.format(color))\n",
    "\n",
    "c = '검은색'\n",
    "del color[c]\n",
    "print('{} 삭제 후 : {}'.format(c, color))\n",
    "\n",
    "color.clear()\n",
    "print(color)"
   ]
  },
  {
   "cell_type": "code",
   "execution_count": 31,
   "metadata": {},
   "outputs": [
    {
     "name": "stdout",
     "output_type": "stream",
     "text": [
      "41431136356\n",
      "집합 : {35, 36, 6, 41, 11, 43}\n",
      "정렬 리스트 : [6, 11, 35, 36, 41, 43]\n",
      "\n",
      "sample 함수 리스트 : [9, 1, 29, 40, 7, 25]\n",
      "sample 함수 정렬 리스트 : [1, 7, 9, 25, 29, 40]\n"
     ]
    }
   ],
   "source": [
    "# 6-8 코딩 20232678 조은성\n",
    "# 로또 번호를 randrange()와 sample() 함수로 생성\n",
    "from random import randrange\n",
    "from random import sample\n",
    "\n",
    "mylotto = set()\n",
    "while True:\n",
    "    num = randrange(1, 46)\n",
    "    print(num, end = '')\n",
    "    mylotto.add(num)\n",
    "    if len(mylotto) == 6:\n",
    "        break\n",
    "\n",
    "print()\n",
    "print('집합 : {}'.format(mylotto))\n",
    "print('정렬 리스트 : {}'.format(sorted(mylotto)))\n",
    "print()\n",
    "\n",
    "lotto = sample(range(1, 46), 6)\n",
    "print('sample 함수 리스트 : {}'.format(lotto))\n",
    "print('sample 함수 정렬 리스트 : {}'.format(sorted(lotto)))"
   ]
  },
  {
   "cell_type": "code",
   "execution_count": 32,
   "metadata": {},
   "outputs": [
    {
     "name": "stdout",
     "output_type": "stream",
     "text": [
      "['축구', '야구', '농구', '배구']\n",
      "[11, 9, 5, 6]\n",
      "\n",
      "함수 zip() : \n",
      "축구 : 11명 야구 : 9명 농구 : 5명 배구 : 6명 \n",
      "축구 : 11명 야구 : 9명 농구 : 5명 배구 : 6명 \n",
      "함수 dict(zip()) : \n",
      "{'축구': 11, '야구': 9, '농구': 5, '배구': 6}\n"
     ]
    }
   ],
   "source": [
    "# 6-10 코딩 20232678 조은성\n",
    "# 구기 종목과 팀원 수의 리스트에서 딕셔너리 구성\n",
    "sports = ['축구', '야구', '농구', '배구']\n",
    "\n",
    "num = [11, 9, 5, 6]\n",
    "print(sports)\n",
    "print(num)\n",
    "print()\n",
    "\n",
    "print('함수 zip() : ')\n",
    "for s, i in zip(sports, num):\n",
    "    print('%s : %d명' % (s, i), end = ' ')\n",
    "print()\n",
    "for tp in zip(sports, num):\n",
    "    print('{} : {}명'.format(*tp), end = ' ')\n",
    "print()\n",
    "\n",
    "print('함수 dict(zip()) : ')\n",
    "sportsum = dict(zip(sports, num))\n",
    "print(sportsum)"
   ]
  },
  {
   "cell_type": "markdown",
   "metadata": {},
   "source": [
    "# 6장 도전! 프로그래밍"
   ]
  },
  {
   "cell_type": "code",
   "execution_count": 33,
   "metadata": {},
   "outputs": [
    {
     "name": "stdout",
     "output_type": "stream",
     "text": [
      "주식 이름 ? 삼성전자\n",
      "삼성전자 : 47000\n",
      "주식 이름 ? 엔씨소프트\n",
      "엔씨소프트 : 52600\n",
      "주식 이름 ? 동양미래대\n",
      "주식 이름이 없습니다.\n"
     ]
    }
   ],
   "source": [
    "# 02 코딩 20232678 조은성\n",
    "# 6개의 주식 가격을 딕셔너리로 만든 후 다음과 같이 표준 입력으로 검색해 가격을 출력\n",
    "\n",
    "company = {'삼성에스디에스':242000, '삼성전자':47000, '엔씨소프트':52600, '핸디소프트':5120, '골프존':215000, '기아':56300}\n",
    "\n",
    "while True:\n",
    "    company_name = input('주식 이름 ? ')\n",
    "    print(f'주식 이름 ? {company_name}')\n",
    "    \n",
    "    if company_name in company.keys():\n",
    "        print(f'{company_name} : {company.get(company_name)}')\n",
    "    else:\n",
    "        print('주식 이름이 없습니다.')\n",
    "        break"
   ]
  },
  {
   "cell_type": "code",
   "execution_count": 35,
   "metadata": {},
   "outputs": [
    {
     "name": "stdout",
     "output_type": "stream",
     "text": [
      "******************\n",
      "철수    영희    승자\n",
      "******************\n",
      "가위    보     철수 1\n",
      "바위    가위    철수 2\n",
      "보     바위    철수 3\n",
      "보     바위    철수 4\n",
      "보     보     비김 1\n",
      "보     보     비김 2\n",
      "가위    보     철수 5\n",
      "가위    바위    영희 1\n",
      "바위    보     영희 2\n",
      "바위    바위    비김 3\n",
      "보     보     비김 4\n",
      "보     바위    철수 6\n",
      "가위    보     철수 7\n",
      "보     보     비김 5\n",
      "가위    보     철수 8\n",
      "바위    바위    비김 6\n",
      "보     보     비김 7\n",
      "바위    보     영희 3\n",
      "바위    보     영희 4\n",
      "보     가위    영희 5\n",
      "총 게임 회수 : 20 , 비긴 회수 : 7\n",
      "철수 승률 : 0.62\n",
      "영희 승률 : 0.38\n"
     ]
    }
   ],
   "source": [
    "# 04 코딩 20232678 조은성\n",
    "# 가위바위보를 20회 진행하고 매번 승자의 승리 회수 또는 비긴 회수가 출력\n",
    "# 마지막에는 비긴 회수와 각각의 승률이 출력\n",
    "import random\n",
    "\n",
    "game = ['가위', '바위', '보']\n",
    "\n",
    "win = {'가위':'보', '바위':'가위', '보':'바위'}\n",
    "\n",
    "a_win_count = 0\n",
    "b_win_count = 0\n",
    "draw_count = 0\n",
    "\n",
    "print('*'*18)\n",
    "print('철수    영희    승자')\n",
    "print('*'*18)\n",
    "\n",
    "for i in range(20):\n",
    "    a = random.choice(game)\n",
    "    b = random.choice(game)\n",
    "\n",
    "    if a == b:\n",
    "        draw_count += 1\n",
    "        print(f'{a:6}{b:6}비김 {draw_count}')\n",
    "    \n",
    "    # a값이 '가위'라고 가정했을때\n",
    "    # win[a] = '가위':'보'\n",
    "    # win[a] == b win[a]의 value값이 b값과 같다면 a가 승리한다.\n",
    "    elif win[a] == b:\n",
    "        a_win_count += 1\n",
    "        winner = '철수'\n",
    "        print(f'{a:6}{b:6}{winner} {a_win_count}')\n",
    "    else:\n",
    "        b_win_count += 1\n",
    "        winner = '영희'\n",
    "        print(f'{a:6}{b:6}{winner} {b_win_count}')\n",
    "\n",
    "print(f'총 게임 회수 : {i + 1} , 비긴 회수 : {draw_count}')\n",
    "print(f'철수 승률 : {(a_win_count / ((i+1) - draw_count)):.2f}')\n",
    "print(f'영희 승률 : {(b_win_count / ((i+1) - draw_count)):.2f}')"
   ]
  },
  {
   "cell_type": "code",
   "execution_count": 36,
   "metadata": {},
   "outputs": [
    {
     "name": "stdout",
     "output_type": "stream",
     "text": [
      "A = {2, 3, 5, 9, 18}\n",
      "B = {3, 5, 11, 13, 18}\n",
      "\n",
      "A | B = {2, 3, 5, 9, 11, 13, 18}\n",
      "A & B = {18, 3, 5}\n",
      "A - B = {9, 2}\n",
      "A ^ B = {2, 9, 11, 13}\n"
     ]
    }
   ],
   "source": [
    "# 06 코딩 20232678 조은성\n",
    "# 1에서 20까지의 난수 5개를 두번 얻어 각각 집합인 변수 A, B에 저장\n",
    "# 집합 A, B의 합집합과 교집합, 차집합, 여집합을 구해 출력\n",
    "import random\n",
    "\n",
    "A = set(random.sample(list(range(1, 21)), 5))\n",
    "B = set(random.sample(list(range(1, 21)), 5))\n",
    "\n",
    "print(f'A = {A}')\n",
    "print(f'B = {B}\\n')\n",
    "\n",
    "print(f'A | B = {A | B}')\n",
    "print(f'A & B = {A & B}')\n",
    "print(f'A - B = {A - B}')\n",
    "print(f'A ^ B = {A ^ B}')"
   ]
  }
 ],
 "metadata": {
  "kernelspec": {
   "display_name": "Python 3",
   "language": "python",
   "name": "python3"
  },
  "language_info": {
   "codemirror_mode": {
    "name": "ipython",
    "version": 3
   },
   "file_extension": ".py",
   "mimetype": "text/x-python",
   "name": "python",
   "nbconvert_exporter": "python",
   "pygments_lexer": "ipython3",
   "version": "3.12.1"
  }
 },
 "nbformat": 4,
 "nbformat_minor": 2
}
