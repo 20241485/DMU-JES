{
 "cells": [
  {
   "cell_type": "markdown",
   "metadata": {},
   "source": [
    "# <b> QC반 20232678 조은성\n",
    "\n",
    "github - https://github.com/EunSeong-Jo/DMU.git"
   ]
  },
  {
   "cell_type": "markdown",
   "metadata": {},
   "source": [
    "# 4장 본문 코딩"
   ]
  },
  {
   "cell_type": "code",
   "execution_count": 1,
   "metadata": {},
   "outputs": [
    {
     "name": "stdout",
     "output_type": "stream",
     "text": [
      "축하합니다! 장학금 지급 대상자입니다.\n",
      "당신의 1학기 평균 평점 4.00이다.\n"
     ]
    }
   ],
   "source": [
    "# 4-2 코딩 20232678 조은성\n",
    "# 평균 평점 3.8 이상이면 장학금 지급 대상자\n",
    "\n",
    "grade = float(input('1학기 평균 평점은?'))\n",
    "\n",
    "if grade >= 3.8:\n",
    "    print('축하합니다! 장학금 지급 대상자입니다.')\n",
    "\n",
    "print('당신의 1학기 평균 평점은 %.2f이다.' % grade)"
   ]
  },
  {
   "cell_type": "code",
   "execution_count": 2,
   "metadata": {},
   "outputs": [
    {
     "name": "stdout",
     "output_type": "stream",
     "text": [
      "11은 홀수다\n"
     ]
    }
   ],
   "source": [
    "# 4-4 코딩 20232678 조은성\n",
    "# 정수의 홀수와 짝수 판정\n",
    "n = int(input('정수 입력 >> '))\n",
    "\n",
    "if n % 2 == 0:\n",
    "    print('%d은 짝수다' % n)\n",
    "else:\n",
    "    print('%d은 홀수다' % n)"
   ]
  },
  {
   "cell_type": "code",
   "execution_count": null,
   "metadata": {},
   "outputs": [],
   "source": [
    "# 4-6 코딩 20232678 조은성\n",
    "# 커피와 주스 선택 이후 메뉴 선택\n",
    "category = int(input('원하는 음료는? 1.커피 2.주스'))\n",
    "\n",
    "if category == 1:\n",
    "    \n",
    "    menu = int(input('번호 선택? 1.아메리카노 2.카페라테 3.카푸치노'))\n",
    "    \n",
    "    if menu == 1:\n",
    "        print('1.아메리카노 선택')\n",
    "    elif menu == 2:\n",
    "        print('2.카페라테 선택')\n",
    "    elif menu == 3:\n",
    "        print('3.카푸치노 선택')\n",
    "else:\n",
    "    \n",
    "    menu = int(input('번호 선택? 1.키위주스 2.토마토주스 3.오렌지주스'))\n",
    "    \n",
    "    if menu == 1:\n",
    "        print('1.키위주스 선택')\n",
    "    elif menu == 2:\n",
    "        print('2.토마토주스 선택')\n",
    "    elif menu == 3:\n",
    "        print('3.오렌지주스 선택')"
   ]
  },
  {
   "cell_type": "code",
   "execution_count": null,
   "metadata": {},
   "outputs": [],
   "source": [
    "# 4-8 코딩 20232678 조은성\n",
    "# 3회에 걸쳐 커피 주문받기\n",
    "for i in range(3):\n",
    "    coffee = input('주문하세요! [아메리카노] [카페라테] [카푸치노] >> ')\n",
    "    if coffee == '아메리카노':\n",
    "        print('%s 주문' % coffee)\n",
    "    elif coffee == '카페라테':\n",
    "        "
   ]
  },
  {
   "cell_type": "code",
   "execution_count": null,
   "metadata": {},
   "outputs": [],
   "source": [
    "# 4-10 코딩 20232678 조은성\n",
    "# 어린이를 위한 놀이 기구 탑승 검사"
   ]
  },
  {
   "cell_type": "code",
   "execution_count": null,
   "metadata": {},
   "outputs": [],
   "source": [
    "# 4-12 코딩 20232678 조은성\n",
    "# 전형적인 구구단 출력"
   ]
  },
  {
   "cell_type": "code",
   "execution_count": null,
   "metadata": {},
   "outputs": [],
   "source": [
    "# 4-14 코딩 20232678 조은성\n",
    "# 1을 입력하면 계속하고 0을 입력하면 반복 종료"
   ]
  },
  {
   "cell_type": "code",
   "execution_count": null,
   "metadata": {},
   "outputs": [],
   "source": [
    "# 4-16 코딩 20232678 조은성\n",
    "# 월, 화, 수 중 영어 철자 하나 검사"
   ]
  },
  {
   "cell_type": "markdown",
   "metadata": {},
   "source": [
    "# 4장 도전! 프로그래밍"
   ]
  },
  {
   "cell_type": "code",
   "execution_count": null,
   "metadata": {},
   "outputs": [],
   "source": [
    "# 02 코딩 20232678 조은성\n",
    "# 근로 시급이 12,000원이고, 일주일에 40시간 이상 근무하면 시금의 1.5배\n",
    "# 일주일 근로 시간을 35~50시간 사이에서 임의의 난수로 정하고, 주급을 계산해 출력"
   ]
  },
  {
   "cell_type": "code",
   "execution_count": null,
   "metadata": {},
   "outputs": [],
   "source": [
    "# 04 코딩 20232678 조은성\n",
    "# 인간의 비만도를 측정하는 체질량 지수를 계산해 판정 결과를 출력"
   ]
  },
  {
   "cell_type": "code",
   "execution_count": null,
   "metadata": {},
   "outputs": [],
   "source": [
    "# 06 코딩 20232678 조은성\n",
    "# 1에서 99까지 정수인 난수를 2개 생성하고 곱하기의 결과를 출력"
   ]
  },
  {
   "cell_type": "code",
   "execution_count": null,
   "metadata": {},
   "outputs": [],
   "source": [
    "# 08 코딩 20232678 조은성\n",
    "# 난수로 발생시킨 1에서 100사이의 첫 번째 피연산자와 사용자가 표준 입력한 연산자, 문자 그리고 표준 입력한 두번째 피연산자를 계산해 출력"
   ]
  },
  {
   "cell_type": "markdown",
   "metadata": {},
   "source": [
    "# 5장 본문 코딩"
   ]
  },
  {
   "cell_type": "code",
   "execution_count": null,
   "metadata": {},
   "outputs": [],
   "source": [
    "# 5-2 코딩 20232678 조은성\n",
    "# 간단한 커피 메뉴 만들기"
   ]
  },
  {
   "cell_type": "code",
   "execution_count": null,
   "metadata": {},
   "outputs": [],
   "source": [
    "# 5-4 코딩 20232678 조은성\n",
    "# 프로그래밍 언어 리스트에서 첨자로 항목 참조"
   ]
  },
  {
   "cell_type": "code",
   "execution_count": null,
   "metadata": {},
   "outputs": [],
   "source": [
    "# 5-6 코딩 20232678 조은성\n",
    "# 중국집에서 음식 주문하기"
   ]
  },
  {
   "cell_type": "code",
   "execution_count": null,
   "metadata": {},
   "outputs": [],
   "source": [
    "# 5-8 코딩 20232678 조은성\n",
    "# 한 글자의 한국 단어로 이해하는 리스트 슬라이싱"
   ]
  },
  {
   "cell_type": "code",
   "execution_count": null,
   "metadata": {},
   "outputs": [],
   "source": [
    "# 5-10 코딩 20232678 조은성\n",
    "# 한 글자 단어와 과일의 정렬"
   ]
  },
  {
   "cell_type": "code",
   "execution_count": null,
   "metadata": {},
   "outputs": [],
   "source": [
    "# 5-12 코딩 20232678 조은성\n",
    "# K-pop 가수와 곡으로 구성된 튜플의 참조"
   ]
  },
  {
   "cell_type": "markdown",
   "metadata": {},
   "source": [
    "# 5장 도전! 프로그래밍"
   ]
  },
  {
   "cell_type": "code",
   "execution_count": null,
   "metadata": {},
   "outputs": [],
   "source": [
    "# 02 코딩 20232678 조은성\n",
    "# 영한 사전과 같이 한글과 영어에 대응되는 튜플 'korean'과 'english'를 만든 후, 표준 입력으로 한글을 입력받아 영어를 출력"
   ]
  },
  {
   "cell_type": "code",
   "execution_count": null,
   "metadata": {},
   "outputs": [],
   "source": [
    "# 04 코딩 20232678 조은성\n",
    "# 다음 중첩된 리스트 'data'에서 각 행의 합과 열의 합을 리스트 'rsum'과 'csum'에 저장해 출력"
   ]
  },
  {
   "cell_type": "code",
   "execution_count": null,
   "metadata": {},
   "outputs": [],
   "source": [
    "# 06 코딩 20232678 조은성\n",
    "# 중첩된 리스트를 for문으로 행과 열을 맞춰 항목을 출력한 후 다시 행과 열이 바뀐 형태를 for문으로 출력"
   ]
  },
  {
   "cell_type": "code",
   "execution_count": null,
   "metadata": {},
   "outputs": [],
   "source": [
    "# 08 코딩 20232678 조은성\n",
    "# 1에서 99까지의 난수 10개로 리스트를 만든 후 리스트를 튜플로 변환하고, 다음과 같이 정렬된 리스트와 합, 항목 수, 최대, 최소, 평균을 출력"
   ]
  },
  {
   "cell_type": "markdown",
   "metadata": {},
   "source": [
    "# 6장 본문 코딩"
   ]
  },
  {
   "cell_type": "code",
   "execution_count": null,
   "metadata": {},
   "outputs": [],
   "source": [
    "# 6-2 코딩 20232678 조은성\n",
    "# 강좌 정보로 구성된 딕셔너리 생성과 참조"
   ]
  },
  {
   "cell_type": "code",
   "execution_count": null,
   "metadata": {},
   "outputs": [],
   "source": [
    "# 6-4 코딩 20232678 조은성\n",
    "# 월 영어 단어 구성과 검색"
   ]
  },
  {
   "cell_type": "code",
   "execution_count": null,
   "metadata": {},
   "outputs": [],
   "source": [
    "# 6-6 코딩 20232678 조은성\n",
    "# 색상 사전의 조회와 삭제"
   ]
  },
  {
   "cell_type": "code",
   "execution_count": null,
   "metadata": {},
   "outputs": [],
   "source": [
    "# 6-8 코딩 20232678 조은성\n",
    "# 로또 번호를 randrange()와 sample() 함수로 생성"
   ]
  },
  {
   "cell_type": "code",
   "execution_count": null,
   "metadata": {},
   "outputs": [],
   "source": [
    "# 6-10 코딩 20232678 조은성\n",
    "# 구기 종목과 팀원 수의 리스트에서 딕셔너리 구성"
   ]
  },
  {
   "cell_type": "markdown",
   "metadata": {},
   "source": [
    "# 6장 도전! 프로그래밍"
   ]
  },
  {
   "cell_type": "code",
   "execution_count": null,
   "metadata": {},
   "outputs": [],
   "source": [
    "# 02 코딩 20232678 조은성\n",
    "# 6개의 주식 가격을 딕셔너리로 만든 후 다음과 같이 표준 입력으로 검색해 가격을 출력"
   ]
  },
  {
   "cell_type": "code",
   "execution_count": null,
   "metadata": {},
   "outputs": [],
   "source": [
    "# 04 코딩 20232678 조은성\n",
    "# 가위바위보를 20회 진행하고 매번 승자의 승리 회수 또는 비긴 회수가 출력\n",
    "# 마지막에는 비긴 회수와 각각의 승률이 출력"
   ]
  },
  {
   "cell_type": "code",
   "execution_count": null,
   "metadata": {},
   "outputs": [],
   "source": [
    "# 06 코딩 20232678 조은성\n",
    "# 1에서 20까지의 난수 5개를 두번 얻어 각각 집합인 변수 A, B에 저장\n",
    "# 집합 A, B의 합집합과 교집합, 차집합, 여집합을 구해 출력"
   ]
  }
 ],
 "metadata": {
  "kernelspec": {
   "display_name": "Python 3",
   "language": "python",
   "name": "python3"
  },
  "language_info": {
   "codemirror_mode": {
    "name": "ipython",
    "version": 3
   },
   "file_extension": ".py",
   "mimetype": "text/x-python",
   "name": "python",
   "nbconvert_exporter": "python",
   "pygments_lexer": "ipython3",
   "version": "3.12.1"
  }
 },
 "nbformat": 4,
 "nbformat_minor": 2
}
