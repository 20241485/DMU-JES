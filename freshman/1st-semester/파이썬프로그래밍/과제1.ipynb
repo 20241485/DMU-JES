{
 "cells": [
  {
   "cell_type": "markdown",
   "metadata": {},
   "source": [
    "# <b> QC반 20232678 조은성\n",
    "\n",
    "github - https://github.com/EunSeong-Jo/DMU.git"
   ]
  },
  {
   "cell_type": "markdown",
   "metadata": {},
   "source": [
    "# 2장 본문 코딩"
   ]
  },
  {
   "cell_type": "markdown",
   "metadata": {},
   "source": [
    "### 2-2 코딩 - 20232678 조은성"
   ]
  },
  {
   "cell_type": "code",
   "execution_count": 1,
   "metadata": {},
   "outputs": [
    {
     "name": "stdout",
     "output_type": "stream",
     "text": [
      "# 이후는 주석\n",
      "string: \"python\"\n",
      "number: 1 5 3.14\n",
      "string: 'python'\n"
     ]
    }
   ],
   "source": [
    "'''과제1.py\n",
    "    2024 3. by Jo Eun Seong'''\n",
    "\n",
    "print('# 이후는 주석') # 한 줄에서 문장 이후에도 주석 사용 가능\n",
    "print('string: \"python\"') # 작은따옴표 내부에 있는 큰따옴표는 문자열\n",
    "print('number: 1 5 3.14') # 문자열 내부의 숫자는 문자열\n",
    "print(\"string: 'python'\") # 큰따옴표 내부에 있는 작은따옴표는 문자열 "
   ]
  },
  {
   "cell_type": "markdown",
   "metadata": {},
   "source": [
    "### 2-4 코딩  - 20232678 조은성"
   ]
  },
  {
   "cell_type": "code",
   "execution_count": 10,
   "metadata": {},
   "outputs": [
    {
     "name": "stdout",
     "output_type": "stream",
     "text": [
      "계산금액\n"
     ]
    }
   ],
   "source": [
    "print('계산금액')"
   ]
  },
  {
   "cell_type": "code",
   "execution_count": 11,
   "metadata": {},
   "outputs": [
    {
     "name": "stdout",
     "output_type": "stream",
     "text": [
      "78000\n"
     ]
    }
   ],
   "source": [
    "print(78000)"
   ]
  },
  {
   "cell_type": "code",
   "execution_count": 12,
   "metadata": {},
   "outputs": [
    {
     "name": "stdout",
     "output_type": "stream",
     "text": [
      "오만 원권\n"
     ]
    }
   ],
   "source": [
    "print('오만 원권')"
   ]
  },
  {
   "cell_type": "code",
   "execution_count": 15,
   "metadata": {},
   "outputs": [
    {
     "name": "stdout",
     "output_type": "stream",
     "text": [
      "1\n"
     ]
    }
   ],
   "source": [
    "print(78000 // 50000)"
   ]
  },
  {
   "cell_type": "code",
   "execution_count": 16,
   "metadata": {},
   "outputs": [
    {
     "data": {
      "text/plain": [
       "28000"
      ]
     },
     "execution_count": 16,
     "metadata": {},
     "output_type": "execute_result"
    }
   ],
   "source": [
    "78000 % 50000"
   ]
  },
  {
   "cell_type": "code",
   "execution_count": 17,
   "metadata": {},
   "outputs": [
    {
     "name": "stdout",
     "output_type": "stream",
     "text": [
      "만 원권\n"
     ]
    }
   ],
   "source": [
    "print('만 원권')"
   ]
  },
  {
   "cell_type": "code",
   "execution_count": 18,
   "metadata": {},
   "outputs": [
    {
     "name": "stdout",
     "output_type": "stream",
     "text": [
      "2\n"
     ]
    }
   ],
   "source": [
    "print( _ // 10000)"
   ]
  },
  {
   "cell_type": "code",
   "execution_count": 19,
   "metadata": {},
   "outputs": [
    {
     "data": {
      "text/plain": [
       "8000"
      ]
     },
     "execution_count": 19,
     "metadata": {},
     "output_type": "execute_result"
    }
   ],
   "source": [
    "_ % 10000"
   ]
  },
  {
   "cell_type": "code",
   "execution_count": 20,
   "metadata": {},
   "outputs": [
    {
     "name": "stdout",
     "output_type": "stream",
     "text": [
      "오천원권\n"
     ]
    }
   ],
   "source": [
    "print('오천원권')"
   ]
  },
  {
   "cell_type": "code",
   "execution_count": 21,
   "metadata": {},
   "outputs": [
    {
     "name": "stdout",
     "output_type": "stream",
     "text": [
      "2\n"
     ]
    }
   ],
   "source": [
    "print( _ // 5000 + 1)"
   ]
  },
  {
   "cell_type": "code",
   "execution_count": 22,
   "metadata": {},
   "outputs": [
    {
     "name": "stdout",
     "output_type": "stream",
     "text": [
      "잔돈\n"
     ]
    }
   ],
   "source": [
    "print('잔돈')"
   ]
  },
  {
   "cell_type": "code",
   "execution_count": 23,
   "metadata": {},
   "outputs": [
    {
     "name": "stdout",
     "output_type": "stream",
     "text": [
      "2000\n"
     ]
    }
   ],
   "source": [
    "print(5000 - _ % 5000)"
   ]
  },
  {
   "cell_type": "code",
   "execution_count": 24,
   "metadata": {},
   "outputs": [
    {
     "name": "stdout",
     "output_type": "stream",
     "text": [
      "2000\n"
     ]
    }
   ],
   "source": [
    "print(5000 - (78000 % 50000) % 10000 % 5000)"
   ]
  },
  {
   "cell_type": "markdown",
   "metadata": {},
   "source": [
    "### 2-6 코딩 - 20232678 조은성"
   ]
  },
  {
   "cell_type": "code",
   "execution_count": 25,
   "metadata": {},
   "outputs": [
    {
     "name": "stdout",
     "output_type": "stream",
     "text": [
      "1 2 -5 3.14 2.71828\n",
      "Hi, Python!\n",
      "23000은 5000원 ?개 1000원 ?개\n",
      "5000원 4 개\n",
      "1000원 3 개\n"
     ]
    }
   ],
   "source": [
    "print(1, 2, -5, 3.14, 2.71828)\n",
    "print('Hi,', 'Python!')\n",
    "\n",
    "print('23000은', '5000원 ?개', '1000원 ?개')\n",
    "print('5000원', 23000 // 5000, '개')\n",
    "print('1000원', (23000 % 5000) // 1000, '개')"
   ]
  },
  {
   "cell_type": "markdown",
   "metadata": {},
   "source": [
    "### 2-8 코딩  - 20232678 조은성"
   ]
  },
  {
   "cell_type": "code",
   "execution_count": 26,
   "metadata": {},
   "outputs": [
    {
     "name": "stdout",
     "output_type": "stream",
     "text": [
      "섭씨:  37 , 화씨:  98.6\n",
      "섭씨:  40 , 화씨:  104.0\n"
     ]
    }
   ],
   "source": [
    "celsius = 37\n",
    "fahrenhite = celsius * 9/5 + 32 # 화씨 변환\n",
    "print('섭씨: ', celsius, ',', '화씨: ', fahrenhite)\n",
    "celsius += 3 # 섭씨 3도 증가\n",
    "fahrenhite = celsius * 9/5 + 32 # 화씨 변환\n",
    "print('섭씨: ', celsius, ',', '화씨: ', fahrenhite)"
   ]
  },
  {
   "cell_type": "markdown",
   "metadata": {},
   "source": [
    "### 2-10 코딩  - 20232678 조은성"
   ]
  },
  {
   "cell_type": "code",
   "execution_count": 27,
   "metadata": {},
   "outputs": [
    {
     "name": "stdout",
     "output_type": "stream",
     "text": [
      "지구에서 달까지의 거리: 38 만 4400 킬로미터\n"
     ]
    }
   ],
   "source": [
    "distance = 384400\n",
    "unit = 10000\n",
    "manUnit , remainder = divmod(distance, unit)\n",
    "print('지구에서 달까지의 거리:', manUnit, '만', remainder, '킬로미터')"
   ]
  },
  {
   "cell_type": "markdown",
   "metadata": {},
   "source": [
    "### 2-12 코딩  - 20232678 조은성"
   ]
  },
  {
   "cell_type": "code",
   "execution_count": 28,
   "metadata": {},
   "outputs": [
    {
     "ename": "ValueError",
     "evalue": "invalid literal for int() with base 10: 'python'",
     "output_type": "error",
     "traceback": [
      "\u001b[1;31m---------------------------------------------------------------------------\u001b[0m",
      "\u001b[1;31mValueError\u001b[0m                                Traceback (most recent call last)",
      "Cell \u001b[1;32mIn[28], line 1\u001b[0m\n\u001b[1;32m----> 1\u001b[0m \u001b[38;5;28;43mint\u001b[39;49m\u001b[43m(\u001b[49m\u001b[38;5;124;43m'\u001b[39;49m\u001b[38;5;124;43mpython\u001b[39;49m\u001b[38;5;124;43m'\u001b[39;49m\u001b[43m)\u001b[49m \u001b[38;5;66;03m# 일반 글자\u001b[39;00m\n",
      "\u001b[1;31mValueError\u001b[0m: invalid literal for int() with base 10: 'python'"
     ]
    }
   ],
   "source": [
    "int('python') # 일반 글자"
   ]
  },
  {
   "cell_type": "code",
   "execution_count": 29,
   "metadata": {},
   "outputs": [
    {
     "ename": "ValueError",
     "evalue": "invalid literal for int() with base 10: '6400i'",
     "output_type": "error",
     "traceback": [
      "\u001b[1;31m---------------------------------------------------------------------------\u001b[0m",
      "\u001b[1;31mValueError\u001b[0m                                Traceback (most recent call last)",
      "Cell \u001b[1;32mIn[29], line 1\u001b[0m\n\u001b[1;32m----> 1\u001b[0m \u001b[38;5;28;43mint\u001b[39;49m\u001b[43m(\u001b[49m\u001b[38;5;124;43m'\u001b[39;49m\u001b[38;5;124;43m6400i\u001b[39;49m\u001b[38;5;124;43m'\u001b[39;49m\u001b[43m)\u001b[49m \u001b[38;5;66;03m# 정수에 문자 'i'가 포함됨\u001b[39;00m\n",
      "\u001b[1;31mValueError\u001b[0m: invalid literal for int() with base 10: '6400i'"
     ]
    }
   ],
   "source": [
    "int('6400i') # 정수에 문자 'i'가 포함됨"
   ]
  },
  {
   "cell_type": "code",
   "execution_count": 31,
   "metadata": {},
   "outputs": [
    {
     "ename": "ValueError",
     "evalue": "could not convert string to float: '3.141592f'",
     "output_type": "error",
     "traceback": [
      "\u001b[1;31m---------------------------------------------------------------------------\u001b[0m",
      "\u001b[1;31mValueError\u001b[0m                                Traceback (most recent call last)",
      "Cell \u001b[1;32mIn[31], line 1\u001b[0m\n\u001b[1;32m----> 1\u001b[0m \u001b[38;5;28;43mfloat\u001b[39;49m\u001b[43m(\u001b[49m\u001b[38;5;124;43m'\u001b[39;49m\u001b[38;5;124;43m3.141592f\u001b[39;49m\u001b[38;5;124;43m'\u001b[39;49m\u001b[43m)\u001b[49m \u001b[38;5;66;03m# 실수에 문자 'f'가 포함됨\u001b[39;00m\n",
      "\u001b[1;31mValueError\u001b[0m: could not convert string to float: '3.141592f'"
     ]
    }
   ],
   "source": [
    "float('3.141592f') # 실수에 문자 'f'가 포함됨"
   ]
  },
  {
   "cell_type": "code",
   "execution_count": 35,
   "metadata": {},
   "outputs": [
    {
     "ename": "ValueError",
     "evalue": "invalid literal for int() with base 10: '2.71818'",
     "output_type": "error",
     "traceback": [
      "\u001b[1;31m---------------------------------------------------------------------------\u001b[0m",
      "\u001b[1;31mValueError\u001b[0m                                Traceback (most recent call last)",
      "Cell \u001b[1;32mIn[35], line 1\u001b[0m\n\u001b[1;32m----> 1\u001b[0m \u001b[38;5;28;43mint\u001b[39;49m\u001b[43m(\u001b[49m\u001b[38;5;124;43m'\u001b[39;49m\u001b[38;5;124;43m2.71818\u001b[39;49m\u001b[38;5;124;43m'\u001b[39;49m\u001b[43m)\u001b[49m \u001b[38;5;66;03m# 정수가 아닌 실수 형태\u001b[39;00m\n",
      "\u001b[1;31mValueError\u001b[0m: invalid literal for int() with base 10: '2.71818'"
     ]
    }
   ],
   "source": [
    "int('2.71818') # 정수가 아닌 실수 형태"
   ]
  },
  {
   "cell_type": "code",
   "execution_count": 33,
   "metadata": {},
   "outputs": [
    {
     "ename": "ValueError",
     "evalue": "invalid literal for int() with base 10: '0b11'",
     "output_type": "error",
     "traceback": [
      "\u001b[1;31m---------------------------------------------------------------------------\u001b[0m",
      "\u001b[1;31mValueError\u001b[0m                                Traceback (most recent call last)",
      "Cell \u001b[1;32mIn[33], line 1\u001b[0m\n\u001b[1;32m----> 1\u001b[0m \u001b[38;5;28;43mint\u001b[39;49m\u001b[43m(\u001b[49m\u001b[38;5;124;43m'\u001b[39;49m\u001b[38;5;124;43m0b11\u001b[39;49m\u001b[38;5;124;43m'\u001b[39;49m\u001b[43m)\u001b[49m \u001b[38;5;66;03m# 10진수 형태만 가능\u001b[39;00m\n",
      "\u001b[1;31mValueError\u001b[0m: invalid literal for int() with base 10: '0b11'"
     ]
    }
   ],
   "source": [
    "int('0b11') # 10진수 형태만 가능"
   ]
  },
  {
   "cell_type": "code",
   "execution_count": 36,
   "metadata": {},
   "outputs": [
    {
     "data": {
      "text/plain": [
       "2"
      ]
     },
     "execution_count": 36,
     "metadata": {},
     "output_type": "execute_result"
    }
   ],
   "source": [
    "int(float(2.71828)) # 정상적인 2 반환"
   ]
  },
  {
   "cell_type": "markdown",
   "metadata": {},
   "source": [
    "### 2-14 코딩 - 20232678 조은성"
   ]
  },
  {
   "cell_type": "code",
   "execution_count": 40,
   "metadata": {},
   "outputs": [
    {
     "name": "stdout",
     "output_type": "stream",
     "text": [
      "원하는 행성은?  지구\n",
      "지구 반지름은?  6400\n",
      "지구 반지름: 6400\n",
      "지구 둘레길이: 40192.0\n"
     ]
    }
   ],
   "source": [
    "planet = input('원하는 행성은? ')\n",
    "print('원하는 행성은? ', planet)\n",
    "strRadius = input(planet + ' 반지름은? ')\n",
    "print(planet + ' 반지름은? ', strRadius)\n",
    "radius = int(strRadius)\n",
    "\n",
    "length = 2 * 3.14 * radius\n",
    "print(planet, '반지름:', radius)\n",
    "print(planet, '둘레길이:', length)"
   ]
  },
  {
   "cell_type": "markdown",
   "metadata": {},
   "source": [
    "### 2-16 코딩 - 20232678 조은성"
   ]
  },
  {
   "cell_type": "code",
   "execution_count": 44,
   "metadata": {},
   "outputs": [
    {
     "name": "stdout",
     "output_type": "stream",
     "text": [
      "16진수 정수 입력 >>  0x1c\n",
      "2진수 :  0b11100\n",
      "8진수 :  0o34\n",
      "10진수 :  28\n",
      "16진수 :  0x1c\n",
      "----------------------------\n",
      "16진수 정수 입력 >>  32\n",
      "2진수 :  0b110010\n",
      "8진수 :  0o62\n",
      "10진수 :  50\n",
      "16진수 :  0x32\n"
     ]
    }
   ],
   "source": [
    "invar = input('16진수 정수 입력 >> ')\n",
    "print('16진수 정수 입력 >> ', invar)\n",
    "data = int(invar, 16) # 입력 문자열을 16진수로 인지해 변환\n",
    "# 여러 진수로 출력\n",
    "print('2진수 : ',bin(data))\n",
    "print('8진수 : ',oct(data))\n",
    "print('10진수 : ',data)\n",
    "print('16진수 : ',hex(data))\n",
    "\n",
    "print('----------------------------')\n",
    "\n",
    "invar2 = input('16진수 정수 입력 >> ')\n",
    "print('16진수 정수 입력 >> ', invar2)\n",
    "data2 = int(invar2, 16) # 입력 문자열을 16진수로 인지해 변환\n",
    "# 여러 진수로 출력\n",
    "print('2진수 : ',bin(data2))\n",
    "print('8진수 : ',oct(data2))\n",
    "print('10진수 : ',data2)\n",
    "print('16진수 : ',hex(data2))"
   ]
  },
  {
   "cell_type": "markdown",
   "metadata": {},
   "source": [
    "# 프로젝트 Lab 1  - 20232678 조은성"
   ]
  },
  {
   "cell_type": "code",
   "execution_count": 45,
   "metadata": {},
   "outputs": [
    {
     "name": "stdout",
     "output_type": "stream",
     "text": [
      "첫 번째 수 입력 >>  10.0\n",
      "두 번째 수 입력 >>  2.5\n",
      "합:  12.5\n",
      "차:  7.5\n",
      "곱하기:  25.0\n",
      "나누기:  4.0\n",
      "연산식:  30//4 결과:  7\n"
     ]
    }
   ],
   "source": [
    "# 두 실수의 사칙연산\n",
    "num1 = float(input('첫 번째 수 입력 >> '))\n",
    "print('첫 번째 수 입력 >> ', num1)\n",
    "num2 = float(input('두 번째 수 입력 >> '))\n",
    "print('두 번째 수 입력 >> ', num2)\n",
    "\n",
    "print('합: ', num1 + num2)\n",
    "print('차: ', num1 - num2)\n",
    "print('곱하기: ', num1 * num2)\n",
    "print('나누기: ', num1 / num2)\n",
    "\n",
    "# 연산식 계산\n",
    "expression = input('연산식 입력 (예 3.2 + 4 * 1.5) >> ')\n",
    "print('연산식: ', expression, '결과: ', eval(expression))"
   ]
  },
  {
   "cell_type": "markdown",
   "metadata": {},
   "source": [
    "# 프로젝트 Lab 2  - 20232678 조은성"
   ]
  },
  {
   "cell_type": "code",
   "execution_count": 100,
   "metadata": {},
   "outputs": [
    {
     "name": "stdout",
     "output_type": "stream",
     "text": [
      "입력할 정수의 진수(base)는?  16\n",
      "16진수 정수 입력 >>  1f\n",
      "2진수 :  0b11111\n",
      "8진수 :  0o37\n",
      "10진수 :  31\n",
      "16진수 :  0x1f\n"
     ]
    }
   ],
   "source": [
    "# 입력할 진수를 입력\n",
    "base = int(input('입력할 정수의 진수(base)는? '))\n",
    "print('입력할 정수의 진수(base)는? ', base)\n",
    "\n",
    "# 입력 진수에 따른 값 입력\n",
    "invar = input(str(base) + '진수 정수 입력 >> ')\n",
    "print(str(base) + '진수 정수 입력 >> ', invar)\n",
    "\n",
    "# 입력한 값을 10진수로 변환\n",
    "data = int(invar, base)\n",
    "\n",
    "# 여러 진수로 출력\n",
    "print('2진수 : ' , bin(data))\n",
    "print('8진수 : ' , oct(data))\n",
    "print('10진수 : ' , data)\n",
    "print('16진수 : ' , hex(data))"
   ]
  },
  {
   "cell_type": "markdown",
   "metadata": {},
   "source": [
    "# 도전! 프로그래밍  - 20232678 조은성"
   ]
  },
  {
   "cell_type": "code",
   "execution_count": 97,
   "metadata": {},
   "outputs": [
    {
     "name": "stdout",
     "output_type": "stream",
     "text": [
      "문자열 1:  python\n",
      "문자열 2:  언어\n",
      "python 언어\n"
     ]
    }
   ],
   "source": [
    "# 01\n",
    "str1 = input('문자열 1: ')\n",
    "print('문자열 1: ', str1)\n",
    "\n",
    "str2 = input('문자열 2: ')\n",
    "print('문자열 2: ', str2)\n",
    "\n",
    "print(str1, str2)"
   ]
  },
  {
   "cell_type": "code",
   "execution_count": 52,
   "metadata": {},
   "outputs": [
    {
     "name": "stdout",
     "output_type": "stream",
     "text": [
      "차의 속도를 입력(km) >>  135\n",
      "135 (km)은  83.85093167701862 마일(miles)이다.\n"
     ]
    }
   ],
   "source": [
    "# 02\n",
    "carSpeed = int(input('차의 속도를 입력(km) >> '))\n",
    "print('차의 속도를 입력(km) >> ', carSpeed)\n",
    "\n",
    "print(carSpeed,'(km)은 ', carSpeed / 1.61, '마일(miles)이다.')"
   ]
  },
  {
   "cell_type": "code",
   "execution_count": 53,
   "metadata": {},
   "outputs": [
    {
     "name": "stdout",
     "output_type": "stream",
     "text": [
      "아메리카노 몇 개 주문하세요?  7\n",
      "총 가격은  24500 이다.\n"
     ]
    }
   ],
   "source": [
    "# 03\n",
    "count_num = int(input('아메리카노 몇 개 주문하세요? '))\n",
    "print('아메리카노 몇 개 주문하세요? ', count_num)\n",
    "\n",
    "print('총 가격은 ', count_num * 3500, '이다.')"
   ]
  },
  {
   "cell_type": "code",
   "execution_count": 94,
   "metadata": {},
   "outputs": [
    {
     "name": "stdout",
     "output_type": "stream",
     "text": [
      "알려진 지구의 둘레 :  40120\n",
      "지구와 같은 원둘레:  40074.77587040001\n",
      "차이:  45.22412959999201 (km)\n"
     ]
    }
   ],
   "source": [
    "# 04\n",
    "earth_round = 40120\n",
    "half_round = 6378.1\n",
    "\n",
    "circle_round = 2 * 3.141592 * half_round\n",
    "\n",
    "print('알려진 지구의 둘레 : ', earth_round)\n",
    "print('지구와 같은 원둘레: ', circle_round)\n",
    "print('차이: ', earth_round - circle_round,'(km)')"
   ]
  },
  {
   "cell_type": "code",
   "execution_count": 60,
   "metadata": {},
   "outputs": [
    {
     "name": "stdout",
     "output_type": "stream",
     "text": [
      "온도 입력 >>  38\n",
      "정확 계산: 섭씨: 38.0  화씨: 100.4\n",
      "약식 계산: 섭씨: 38.0  화씨: 106\n",
      "차이:  -5.599999999999994\n"
     ]
    }
   ],
   "source": [
    "# 05\n",
    "temperature = int(input('온도 입력 >> '))\n",
    "print('온도 입력 >> ', temperature)\n",
    "\n",
    "f = temperature * 9/5 + 32\n",
    "c = (f - 32) * 5/9\n",
    "\n",
    "f2 = temperature * 2 + 30\n",
    "\n",
    "print('정확 계산: 섭씨:', c, ' 화씨:', f)\n",
    "print('약식 계산: 섭씨:', c, ' 화씨:', f2)\n",
    "print('차이: ', f - f2)"
   ]
  },
  {
   "cell_type": "code",
   "execution_count": 65,
   "metadata": {},
   "outputs": [
    {
     "name": "stdout",
     "output_type": "stream",
     "text": [
      "Enter First number :  12\n",
      "Enter Second number :  5\n",
      "12 / 5 ==> 2.4\n",
      "12 % 5 ==> 2\n",
      "12 // 5 ==> 2\n",
      "12 ** 5 ==> 248832\n"
     ]
    }
   ],
   "source": [
    "# 06\n",
    "number1 = int(input('Enter First number : '))\n",
    "print('Enter First number : ', number1)\n",
    "\n",
    "number2 = int(input('Enter Second number : '))\n",
    "print('Enter Second number : ', number2)\n",
    "\n",
    "print(number1, '/', number2, '==>', number1 / number2)\n",
    "print(number1, '%', number2, '==>', number1 % number2)\n",
    "print(number1, '//', number2, '==>', number1 // number2)\n",
    "print(number1, '**', number2, '==>', number1 ** number2)"
   ]
  },
  {
   "cell_type": "code",
   "execution_count": 95,
   "metadata": {},
   "outputs": [
    {
     "name": "stdout",
     "output_type": "stream",
     "text": [
      "첫 번째 16진수 실수 입력 >>  f\n",
      "두 번째 16진수 실수 입력 >>  e.1\n",
      "실수1 : 15.0 실수2 : 14.0625\n",
      "합: 29.0625\n",
      "차: 0.9375\n",
      "곱하기: 210.9375\n",
      "나누기: 1.0666666666666667\n"
     ]
    }
   ],
   "source": [
    "# 07\n",
    "f1_num = input('첫 번째 16진수 실수 입력 >> ')\n",
    "print('첫 번째 16진수 실수 입력 >> ', f1_num)\n",
    "\n",
    "f2_num = input('두 번째 16진수 실수 입력 >> ')\n",
    "print('두 번째 16진수 실수 입력 >> ', f2_num)\n",
    "\n",
    "f1_num = float.fromhex(f1_num)\n",
    "f2_num = float.fromhex(f2_num)\n",
    "\n",
    "print('실수1 :', f1_num, '실수2 :', f2_num)\n",
    "\n",
    "print('합:', f1_num + f2_num)\n",
    "print('차:', f1_num - f2_num)\n",
    "print('곱하기:', f1_num * f2_num)\n",
    "print('나누기:', f1_num / f2_num)"
   ]
  },
  {
   "cell_type": "code",
   "execution_count": 90,
   "metadata": {},
   "outputs": [
    {
     "name": "stdout",
     "output_type": "stream",
     "text": [
      "네 자릿수 정수 입력 >>  5432\n",
      "2345\n"
     ]
    }
   ],
   "source": [
    "# 08\n",
    "rebmun = int(input('네 자릿수 정수 입력 >> '))\n",
    "print('네 자릿수 정수 입력 >> ', rebmun)\n",
    "\n",
    "'''\n",
    "1의 자리 : rebmun // 1000\n",
    "10의 자리 : ((rebmun % 1000) // 100) * 10\n",
    "100의 자리 : ((rebmun % 100) // 10) * 100\n",
    "1000의 자리 : (rebmun % 10) * 1000\n",
    "'''\n",
    "print(((rebmun % 10) * 1000) + (((rebmun % 100) // 10) * 100) + (((rebmun % 1000) // 100) * 10) + (rebmun // 1000))"
   ]
  },
  {
   "cell_type": "markdown",
   "metadata": {},
   "source": [
    "# 3장 본문 코딩"
   ]
  },
  {
   "cell_type": "markdown",
   "metadata": {},
   "source": [
    "### 3-2  - 20232678 조은성"
   ]
  },
  {
   "cell_type": "code",
   "execution_count": 101,
   "metadata": {},
   "outputs": [
    {
     "data": {
      "text/plain": [
       "12"
      ]
     },
     "execution_count": 101,
     "metadata": {},
     "output_type": "execute_result"
    }
   ],
   "source": [
    "str = 'Monty Python'\n",
    "\n",
    "len(str)"
   ]
  },
  {
   "cell_type": "code",
   "execution_count": 102,
   "metadata": {},
   "outputs": [
    {
     "data": {
      "text/plain": [
       "('Monty', 'Python', 'Python')"
      ]
     },
     "execution_count": 102,
     "metadata": {},
     "output_type": "execute_result"
    }
   ],
   "source": [
    "str[0:5], str[6:], str[6:12]"
   ]
  },
  {
   "cell_type": "code",
   "execution_count": 103,
   "metadata": {},
   "outputs": [
    {
     "data": {
      "text/plain": [
       "('Monty', 'Python', '')"
      ]
     },
     "execution_count": 103,
     "metadata": {},
     "output_type": "execute_result"
    }
   ],
   "source": [
    "str[-12:-7], str[-6:], str[-6:0]"
   ]
  },
  {
   "cell_type": "markdown",
   "metadata": {},
   "source": [
    "### 3-4  - 20232678 조은성"
   ]
  },
  {
   "cell_type": "code",
   "execution_count": 107,
   "metadata": {},
   "outputs": [
    {
     "name": "stdout",
     "output_type": "stream",
     "text": [
      "실수(세자리.두자리 345.78처럼)를 하나 입력하세요. >>  345.67\n",
      "입력값:  345.67\n",
      "모든 자릿수 합:  25\n",
      "----------------------------------------------------------\n",
      "실수(세자리.두자리 345.78처럼)를 하나 입력하세요. >>  287.34\n",
      "입력값:  287.34\n",
      "모든 자릿수 합:  24\n"
     ]
    }
   ],
   "source": [
    "value = input('실수(세자리.두자리 345.78처럼)를 하나 입력하세요. >> ')\n",
    "print('실수(세자리.두자리 345.78처럼)를 하나 입력하세요. >> ', value)\n",
    "\n",
    "num = value.replace('.','')\n",
    "\n",
    "sum = 0\n",
    "\n",
    "sum += int(num[0])\n",
    "sum += int(num[1])\n",
    "sum += int(num[2])\n",
    "sum += int(num[3])\n",
    "sum += int(num[4])\n",
    "\n",
    "print('입력값: ', value)\n",
    "print('모든 자릿수 합: ', sum)\n",
    "\n",
    "print('----------------------------------------------------------')\n",
    "\n",
    "value2 = input('실수(세자리.두자리 345.78처럼)를 하나 입력하세요. >> ')\n",
    "print('실수(세자리.두자리 345.78처럼)를 하나 입력하세요. >> ', value2)\n",
    "\n",
    "number = value2.replace('.','')\n",
    "\n",
    "sum2 = 0\n",
    "\n",
    "sum2 += int(number[0])\n",
    "sum2 += int(number[1])\n",
    "sum2 += int(number[2])\n",
    "sum2 += int(number[3])\n",
    "sum2 += int(number[4])\n",
    "\n",
    "print('입력값: ', value2)\n",
    "print('모든 자릿수 합: ', sum2)"
   ]
  },
  {
   "cell_type": "markdown",
   "metadata": {},
   "source": [
    "### 3-6  - 20232678 조은성"
   ]
  },
  {
   "cell_type": "code",
   "execution_count": 106,
   "metadata": {},
   "outputs": [
    {
     "name": "stdout",
     "output_type": "stream",
     "text": [
      "4개의 수 입력 >>  3.7 5.8 9 2.5\n",
      "입력값:  3.7 5.8 9.0 2.5\n",
      "합:  21.0 평균:  5.25\n",
      "최대:  9.0 최소:  2.5\n"
     ]
    }
   ],
   "source": [
    "m, n, x, y = input('4개의 수 입력 >> ').split()\n",
    "print('4개의 수 입력 >> ', m, n, x, y)\n",
    "\n",
    "a, b, c, d = float(m), float(n), float(x), float(y)\n",
    "print('입력값: ', a, b, c, d)\n",
    "\n",
    "sum = a + b + c + d\n",
    "\n",
    "print('합: ', sum, '평균: ', sum / 4)\n",
    "print('최대: ', max(a, b, c, d), '최소: ', min(a, b, c, d))"
   ]
  }
 ],
 "metadata": {
  "kernelspec": {
   "display_name": "Python 3 (ipykernel)",
   "language": "python",
   "name": "python3"
  },
  "language_info": {
   "codemirror_mode": {
    "name": "ipython",
    "version": 3
   },
   "file_extension": ".py",
   "mimetype": "text/x-python",
   "name": "python",
   "nbconvert_exporter": "python",
   "pygments_lexer": "ipython3",
   "version": "3.10.13"
  }
 },
 "nbformat": 4,
 "nbformat_minor": 4
}
